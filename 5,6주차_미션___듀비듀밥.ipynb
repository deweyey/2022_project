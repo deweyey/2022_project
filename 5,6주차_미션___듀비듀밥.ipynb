{
  "cells": [
    {
      "cell_type": "markdown",
      "metadata": {
        "id": "view-in-github",
        "colab_type": "text"
      },
      "source": [
        "<a href=\"https://colab.research.google.com/github/deweyey/2022_project/blob/main/5%2C6%EC%A3%BC%EC%B0%A8_%EB%AF%B8%EC%85%98___%EB%93%80%EB%B9%84%EB%93%80%EB%B0%A5.ipynb\" target=\"_parent\"><img src=\"https://colab.research.google.com/assets/colab-badge.svg\" alt=\"Open In Colab\"/></a>"
      ]
    },
    {
      "cell_type": "markdown",
      "source": [
        "### 프로젝트 주제 : 연령별 인구 구성 비율\n",
        "\n",
        "1) 유소년, 중장년, 노년층 인구 구성 비율 막대그래프\n",
        "\n",
        "2) 총 인구수와 노년층 비율 비교 그래프 (막대+꺾은선 그래프)\n",
        "\n",
        "(비교를 시작하고 싶은 년도와 비교 간격을 사용자가 지정하여 그래프를 그릴 수 있도록 함.)\n"
      ],
      "metadata": {
        "id": "juVeSM0Qh1ib"
      }
    },
    {
      "cell_type": "code",
      "execution_count": 7,
      "metadata": {
        "colab": {
          "base_uri": "https://localhost:8080/"
        },
        "id": "c2gpbCtOYN1T",
        "outputId": "7cfb0766-9945-4f26-949e-c44bc92b4351"
      },
      "outputs": [
        {
          "output_type": "stream",
          "name": "stdout",
          "text": [
            "/usr/share/fonts: caching, new cache contents: 0 fonts, 1 dirs\n",
            "/usr/share/fonts/truetype: caching, new cache contents: 0 fonts, 3 dirs\n",
            "/usr/share/fonts/truetype/humor-sans: caching, new cache contents: 1 fonts, 0 dirs\n",
            "/usr/share/fonts/truetype/liberation: caching, new cache contents: 16 fonts, 0 dirs\n",
            "/usr/share/fonts/truetype/nanum: caching, new cache contents: 10 fonts, 0 dirs\n",
            "/usr/local/share/fonts: caching, new cache contents: 0 fonts, 0 dirs\n",
            "/root/.local/share/fonts: skipping, no such directory\n",
            "/root/.fonts: skipping, no such directory\n",
            "/var/cache/fontconfig: cleaning cache directory\n",
            "/root/.cache/fontconfig: not cleaning non-existent cache directory\n",
            "/root/.fontconfig: not cleaning non-existent cache directory\n",
            "fc-cache: succeeded\n"
          ]
        }
      ],
      "source": [
        "# 한글 파일 설치\n",
        "\n",
        "!apt-get install fonts-nanum -qq > /dev/nall\n",
        "!fc-cache -fv\n",
        "import matplotlib as mpl\n",
        "mpl.font_manager._rebuild()\n",
        "findfont = mpl.font_manager.fontManager.findfont\n",
        "mpl.font_manager.findfont = findfont\n",
        "mpl.backends.backend_agg.findfont = findfont"
      ]
    },
    {
      "cell_type": "code",
      "execution_count": 8,
      "metadata": {
        "colab": {
          "base_uri": "https://localhost:8080/",
          "height": 608
        },
        "id": "wQcSwp-EYCpE",
        "outputId": "db238354-35fc-4431-9337-d2eca9529bf7"
      },
      "outputs": [
        {
          "name": "stdout",
          "output_type": "stream",
          "text": [
            "비교를 시작하고 싶은 년도는?(2010년 이후, 숫자로 입력) :2010\n",
            "비교하고 싶은 간격은?(1~12 사이 숫자로 입력) :2\n"
          ]
        },
        {
          "output_type": "display_data",
          "data": {
            "text/plain": [
              "<Figure size 432x288 with 1 Axes>"
            ],
            "image/png": "[encoded data removed]"
          },
          "metadata": {
            "needs_background": "light"
          }
        },
        {
          "output_type": "display_data",
          "data": {
            "text/plain": [
              "<Figure size 432x288 with 2 Axes>"
            ],
            "image/png": "[encoded data removed]"
          },
          "metadata": {
            "needs_background": "light"
          }
        }
      ],
      "source": [
        "import csv\n",
        "\n",
        "# 필요한 리스트 만들기\n",
        "\n",
        "age = []\n",
        "age_percent = []\n",
        "for i in range(3) :\n",
        "  age.append([])\n",
        "  age_percent.append([])\n",
        "\n",
        "# 시작 년도와 년도 간격 지정\n",
        "\n",
        "year = []\n",
        "while True :\n",
        "  want = input('비교를 시작하고 싶은 년도는?(2010년 이후, 숫자로 입력) :')\n",
        "  if int(want) < 2009 :\n",
        "    print('시작 년도를 다시 입력하세요.')\n",
        "    print('------------------------------------')\n",
        "  else :\n",
        "    break\n",
        "while True :\n",
        "  gap = input('비교하고 싶은 간격은?(1~12 사이 숫자로 입력) :')\n",
        "  if int(gap) > 13 or int(gap) < 1 :\n",
        "    print('년도 간격을 다시 입력하세요.')\n",
        "    print('------------------------------------')\n",
        "  else :\n",
        "    break\n",
        "\n",
        "for i in range(int(want), 2023, int(gap)) :\n",
        "  year.append(i)\n",
        "\n",
        "total = []\n",
        "bottom = []\n",
        "\n",
        "data10 = csv.reader(open('age_2010.csv', encoding='cp949'))\n",
        "data11 = csv.reader(open('age_2011.csv', encoding='cp949'))\n",
        "data12 = csv.reader(open('age_2012.csv', encoding='cp949'))\n",
        "data13 = csv.reader(open('age_2013.csv', encoding='cp949'))\n",
        "data14 = csv.reader(open('age_2014.csv', encoding='cp949'))\n",
        "data15 = csv.reader(open('age_2015.csv', encoding='cp949'))\n",
        "data16 = csv.reader(open('age_2016.csv', encoding='cp949'))\n",
        "data17 = csv.reader(open('age_2017.csv', encoding='cp949'))\n",
        "data18 = csv.reader(open('age_2018.csv', encoding='cp949'))\n",
        "data19 = csv.reader(open('age_2019.csv', encoding='cp949'))\n",
        "data20 = csv.reader(open('age_2020.csv', encoding='cp949'))\n",
        "data21 = csv.reader(open('age_2021.csv', encoding='cp949'))\n",
        "data22 = csv.reader(open('age_2022.csv', encoding='cp949'))\n",
        "\n",
        "# 데이터마다 반복할 함수\n",
        "\n",
        "def data_append(data) : \n",
        "\n",
        "  youth = 0\n",
        "  middle = 0\n",
        "  old = 0\n",
        "  plus = 0\n",
        "  bottom_plus = 0\n",
        "\n",
        "  for row in data :\n",
        "    if '전국' in row[0] :\n",
        "      for e in range(3,18) :\n",
        "        youth = youth + int(row[e])\n",
        "      age[0].append(youth)\n",
        "      for e in range(18,68) :\n",
        "        middle = middle + int(row[e])\n",
        "      age[1].append(middle)\n",
        "      for e in range(68,104) :\n",
        "        old = old + int(row[e])\n",
        "      age[2].append(old)\n",
        "      plus = youth + middle + old\n",
        "      total.append(plus)\n",
        "      age_percent[0].append(round(int(youth)/int(plus)*100,1))\n",
        "      age_percent[1].append(round(int(middle)/int(plus)*100,1))\n",
        "      age_percent[2].append(round(int(old)/int(plus)*100,1))\n",
        "      bottom_plus = round(int(youth)/int(plus)*100+ int(middle)/int(plus)*100,1)\n",
        "      bottom.append(bottom_plus)\n",
        "      break\n",
        "\n",
        "# year 리스트에 포함하는 년도 데이터에 대해 반복\n",
        "\n",
        "if 2010 in year :\n",
        "  data_append(data10)\n",
        "if 2011 in year :\n",
        "  data_append(data11)\n",
        "if 2012 in year :\n",
        "  data_append(data12)\n",
        "if 2013 in year :\n",
        "  data_append(data13)\n",
        "if 2014 in year :\n",
        "  data_append(data14)\n",
        "if 2015 in year :\n",
        "  data_append(data15)\n",
        "if 2016 in year :\n",
        "  data_append(data16)\n",
        "if 2017 in year :\n",
        "  data_append(data17)\n",
        "if 2018 in year :\n",
        "  data_append(data18)\n",
        "if 2019 in year :\n",
        "  data_append(data19)\n",
        "if 2020 in year :\n",
        "  data_append(data20)\n",
        "if 2021 in year :\n",
        "  data_append(data21)\n",
        "if 2022 in year :\n",
        "  data_append(data22)\n",
        "\n",
        "\n",
        "# 연령층별 인구 비율 그래프 그리기\n",
        "\n",
        "import matplotlib.pyplot as plt\n",
        "\n",
        "pos = range(len(year))\n",
        "\n",
        "bar1 = plt.bar(pos, age_percent[0], label = \"유소년층\")\n",
        "bar2 = plt.bar(pos, age_percent[1], bottom = age_percent[0], label = \"중장년층\")\n",
        "bar3 = plt.bar(pos, age_percent[2], bottom = bottom, label = \"노년층\")\n",
        "\n",
        "plt.xticks(pos, year)\n",
        "\n",
        "plt.rc('font', family = 'NanumGothic')\n",
        "plt.title('연령층별 인구비율')\n",
        "\n",
        "plt.ylabel('인구비율 (단위:퍼센트(%))')\n",
        "plt.xlabel('년도')\n",
        "plt.legend(ncol = 4)\n",
        "plt.show()\n",
        "\n",
        "# 총 인구수와 노년층 인구 비율 그래프 그리기\n",
        "\n",
        "import numpy as np\n",
        "import matplotlib.pyplot as plt\n",
        "\n",
        "fig, ax1 = plt.subplots()\n",
        "\n",
        "ax1.set_xlabel('년도')\n",
        "ax1.set_ylabel('노년층 인구 비율 (단위:퍼센트(%))', color = 'red' )\n",
        "ax1.bar(year, age_percent[2], color='red')\n",
        "ax1.tick_params(axis='y', labelcolor='red')\n",
        "\n",
        "ax2 = ax1.twinx()  \n",
        "ax2.set_ylabel('총 인구수(단위:천만)', color='blue') \n",
        "ax2.plot(year, total, color='blue')\n",
        "ax2.tick_params(axis='y', labelcolor='blue')\n",
        "\n",
        "fig.tight_layout()\n",
        "plt.show()"
      ]
    },
    {
      "cell_type": "code",
      "source": [
        ""
      ],
      "metadata": {
        "id": "EXAtXA5cbiPn"
      },
      "execution_count": null,
      "outputs": []
    }
  ],
  "metadata": {
    "colab": {
      "name": "5,6주차 미션 _ 듀비듀밥.ipynb",
      "provenance": [],
      "authorship_tag": "ABX9TyPRLWqs0LMwR5KHluqt0FEn",
      "include_colab_link": true
    },
    "kernelspec": {
      "display_name": "Python 3",
      "name": "python3"
    },
    "language_info": {
      "name": "python"
    }
  },
  "nbformat": 4,
  "nbformat_minor": 0
}